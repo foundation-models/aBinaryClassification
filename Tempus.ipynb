{
  "nbformat": 4,
  "nbformat_minor": 0,
  "metadata": {
    "colab": {
      "name": "Tempus.ipynb",
      "version": "0.3.2",
      "provenance": [],
      "collapsed_sections": [],
      "include_colab_link": true
    },
    "kernelspec": {
      "name": "python3",
      "display_name": "Python 3"
    },
    "accelerator": "GPU"
  },
  "cells": [
    {
      "cell_type": "markdown",
      "metadata": {
        "id": "view-in-github",
        "colab_type": "text"
      },
      "source": [
        "<a href=\"https://colab.research.google.com/github/hossein20s/aBinaryClassification/blob/master/Tempus.ipynb\" target=\"_parent\"><img src=\"https://colab.research.google.com/assets/colab-badge.svg\" alt=\"Open In Colab\"/></a>"
      ]
    },
    {
      "cell_type": "markdown",
      "metadata": {
        "id": "858jcf1BP75X",
        "colab_type": "text"
      },
      "source": [
        "# Problem Definition\n",
        "Check it out from https://drive.google.com/file/d/0B2N190SEI1grNXRxRjN5NWdkWWVHSzZyNWN5bWJNNUo3T3BF/view?usp=drivesdk\n"
      ]
    },
    {
      "cell_type": "markdown",
      "metadata": {
        "id": "9upJiCstrbBG",
        "colab_type": "text"
      },
      "source": [
        "# Initialize\n",
        "My script to connect colab to Google drive and bring some python library"
      ]
    },
    {
      "cell_type": "code",
      "metadata": {
        "id": "fEA1ROsVJjGG",
        "colab_type": "code",
        "outputId": "6415a712-288c-40a0-f048-f67ee82cd542",
        "colab": {
          "base_uri": "https://localhost:8080/",
          "height": 81
        }
      },
      "source": [
        "from google.colab import drive\n",
        "drive.mount('/gdrive')\n",
        "!ln -s \"/gdrive/My Drive/data\" data"
      ],
      "execution_count": 0,
      "outputs": [
        {
          "output_type": "stream",
          "text": [
            "Drive already mounted at /gdrive; to attempt to forcibly remount, call drive.mount(\"/gdrive\", force_remount=True).\n",
            "ln: failed to create symbolic link 'data/data': Function not implemented\n"
          ],
          "name": "stdout"
        }
      ]
    },
    {
      "cell_type": "markdown",
      "metadata": {
        "id": "Ud3zJse8rsHj",
        "colab_type": "text"
      },
      "source": [
        "# Data Preparation\n",
        "unzip, Unspact the file in OS to get an idea that how many line does it have and how does it look like"
      ]
    },
    {
      "cell_type": "code",
      "metadata": {
        "id": "WFOrZESMll_h",
        "colab_type": "code",
        "outputId": "c66f8273-a055-481a-cd75-7282d38dd5bf",
        "colab": {
          "base_uri": "https://localhost:8080/",
          "height": 81
        }
      },
      "source": [
        "!gunzip data/DScasestudy.txt.gz\n",
        "!wc -l data/DScasestudy.txt"
      ],
      "execution_count": 0,
      "outputs": [
        {
          "output_type": "stream",
          "text": [
            "gzip: data/DScasestudy.txt.gz: No such file or directory\n",
            "531 data/DScasestudy.txt\n"
          ],
          "name": "stdout"
        }
      ]
    },
    {
      "cell_type": "markdown",
      "metadata": {
        "id": "_-W3AgucsE8G",
        "colab_type": "text"
      },
      "source": [
        "Conver it to Pandas Dataframe and check it’s shape"
      ]
    },
    {
      "cell_type": "code",
      "metadata": {
        "id": "AzFM2PyIl71l",
        "colab_type": "code",
        "outputId": "6c122952-9606-4f73-da15-ddc4e2c6a152",
        "colab": {
          "base_uri": "https://localhost:8080/",
          "height": 35
        }
      },
      "source": [
        "DATA_FILE = 'data/DScasestudy.txt'\n",
        "import pandas as pd\n",
        "\n",
        "data = pd.read_csv(DATA_FILE, sep=\"\\t\")\n",
        "print(data.shape)"
      ],
      "execution_count": 0,
      "outputs": [
        {
          "output_type": "stream",
          "text": [
            "(530, 16563)\n"
          ],
          "name": "stdout"
        }
      ]
    },
    {
      "cell_type": "markdown",
      "metadata": {
        "id": "j7CjAtlXsO3J",
        "colab_type": "text"
      },
      "source": [
        "*  Take a look at the first couple of lines \n",
        "*  If it has any missing data: *It didn’t*\n",
        "*  Some statistics on the data: *Sparse data with 0 or 1 values (most probably)*\n",
        "\n",
        "\n"
      ]
    },
    {
      "cell_type": "code",
      "metadata": {
        "id": "uN5M5rtjpAoc",
        "colab_type": "code",
        "outputId": "252756ac-1c3d-4561-9b4b-daf172324c3e",
        "colab": {
          "base_uri": "https://localhost:8080/",
          "height": 287
        }
      },
      "source": [
        "print(data.iloc[1:3,0:4])\n",
        "print(data.isnull().values.any())\n",
        "print(data.describe())"
      ],
      "execution_count": 0,
      "outputs": [
        {
          "output_type": "stream",
          "text": [
            "   response  V1  V2  V3\n",
            "1         1   0   0   0\n",
            "2         1   0   0   0\n",
            "False\n",
            "         response          V1          V2  ...      V16560  V16561      V16562\n",
            "count  530.000000  530.000000  530.000000  ...  530.000000   530.0  530.000000\n",
            "mean     0.232075    0.009434    0.009434  ...    0.003774     0.0    0.447170\n",
            "std      0.422556    0.096761    0.096761  ...    0.061371     0.0    0.497671\n",
            "min      0.000000    0.000000    0.000000  ...    0.000000     0.0    0.000000\n",
            "25%      0.000000    0.000000    0.000000  ...    0.000000     0.0    0.000000\n",
            "50%      0.000000    0.000000    0.000000  ...    0.000000     0.0    0.000000\n",
            "75%      0.000000    0.000000    0.000000  ...    0.000000     0.0    1.000000\n",
            "max      1.000000    1.000000    1.000000  ...    1.000000     0.0    1.000000\n",
            "\n",
            "[8 rows x 16563 columns]\n"
          ],
          "name": "stdout"
        }
      ]
    },
    {
      "cell_type": "markdown",
      "metadata": {
        "id": "whkQRvqKkhlH",
        "colab_type": "text"
      },
      "source": [
        "Lets plot one case and couple of feature to see if any pattern can be detected by eye. There is an imbalance between response 1 and 0 but it is not much. Looks like other values are all 0 or 1"
      ]
    },
    {
      "cell_type": "code",
      "metadata": {
        "id": "TV5nyG5zkSpA",
        "colab_type": "code",
        "outputId": "478d546e-ee50-44a1-d1ac-2aa45a5d33b3",
        "colab": {
          "base_uri": "https://localhost:8080/",
          "height": 539
        }
      },
      "source": [
        "import matplotlib.pyplot as plt\n",
        "%matplotlib inline\n",
        "\n",
        "plt.plot(data.iloc[:,0])\n",
        "plt.show()\n",
        "plt.plot(data.iloc[:,2])\n",
        "plt.plot(data.iloc[:,16000])"
      ],
      "execution_count": 0,
      "outputs": [
        {
          "output_type": "display_data",
          "data": {
            "image/png": "[encoded data removed]",
            "text/plain": [
              "<Figure size 432x288 with 1 Axes>"
            ]
          },
          "metadata": {
            "tags": []
          }
        },
        {
          "output_type": "execute_result",
          "data": {
            "text/plain": [
              "[<matplotlib.lines.Line2D at 0x7f51c99df400>]"
            ]
          },
          "metadata": {
            "tags": []
          },
          "execution_count": 5
        },
        {
          "output_type": "display_data",
          "data": {
            "image/png": "[encoded data removed]",
            "text/plain": [
              "<Figure size 432x288 with 1 Axes>"
            ]
          },
          "metadata": {
            "tags": []
          }
        }
      ]
    },
    {
      "cell_type": "markdown",
      "metadata": {
        "id": "npEqajMxSymx",
        "colab_type": "text"
      },
      "source": [
        "Probably many columns are all 0"
      ]
    },
    {
      "cell_type": "code",
      "metadata": {
        "id": "EikqXeYRSW3B",
        "colab_type": "code",
        "outputId": "d8c6070d-df6f-4f95-98df-f4e4d5009a7b",
        "colab": {
          "base_uri": "https://localhost:8080/",
          "height": 107
        }
      },
      "source": [
        "data.columns[(data == 0).all()]"
      ],
      "execution_count": 0,
      "outputs": [
        {
          "output_type": "execute_result",
          "data": {
            "text/plain": [
              "Index(['V4', 'V9', 'V10', 'V12', 'V14', 'V15', 'V16', 'V19', 'V21', 'V37',\n",
              "       ...\n",
              "       'V16530', 'V16531', 'V16533', 'V16536', 'V16537', 'V16538', 'V16554',\n",
              "       'V16555', 'V16559', 'V16561'],\n",
              "      dtype='object', length=5492)"
            ]
          },
          "metadata": {
            "tags": []
          },
          "execution_count": 6
        }
      ]
    },
    {
      "cell_type": "markdown",
      "metadata": {
        "id": "okKciTQaXXaq",
        "colab_type": "text"
      },
      "source": [
        "# Data Reduction\n",
        "\n",
        "Using PCA we can reduce the number of feaures, preferrably to the same size of data (around 500).\n",
        "\n",
        "First separate Labels from Features"
      ]
    },
    {
      "cell_type": "code",
      "metadata": {
        "id": "buASLikdlVNi",
        "colab_type": "code",
        "outputId": "bdeefc9e-4b2d-4168-bc74-46bd648290c3",
        "colab": {
          "base_uri": "https://localhost:8080/",
          "height": 35
        }
      },
      "source": [
        "labels = data.iloc[:,0]\n",
        "features = data.iloc[:,1:]\n",
        "print(features.values.shape)"
      ],
      "execution_count": 0,
      "outputs": [
        {
          "output_type": "stream",
          "text": [
            "(530, 16562)\n"
          ],
          "name": "stdout"
        }
      ]
    },
    {
      "cell_type": "markdown",
      "metadata": {
        "id": "NDV9WlL3pdEn",
        "colab_type": "text"
      },
      "source": [
        "Even though the data bounded to 0 and 1. We apply MinMax for the sake of reusing it for future data"
      ]
    },
    {
      "cell_type": "code",
      "metadata": {
        "id": "dIpMgo3Mdg-k",
        "colab_type": "code",
        "colab": {}
      },
      "source": [
        "from sklearn.preprocessing import MinMaxScaler\n",
        "\n",
        "scaler = MinMaxScaler(feature_range=[0, 1])\n",
        "rescaled = scaler.fit_transform(features)"
      ],
      "execution_count": 0,
      "outputs": []
    },
    {
      "cell_type": "code",
      "metadata": {
        "id": "AIWaxHkGXte5",
        "colab_type": "code",
        "outputId": "243ccd8f-a091-4cbd-f468-26cc0aa1cd8d",
        "colab": {
          "base_uri": "https://localhost:8080/",
          "height": 283
        }
      },
      "source": [
        "import numpy as np\n",
        "from sklearn.decomposition import PCA\n",
        "import matplotlib.pyplot as plt\n",
        "%matplotlib inline\n",
        "\n",
        "#Fitting the PCA algorithm with our Data\n",
        "pca = PCA().fit(rescaled)\n",
        "#Plotting the Cumulative Summation of the Explained Variance\n",
        "plt.figure()\n",
        "plt.plot(np.cumsum(pca.explained_variance_ratio_))\n",
        "plt.xlabel('Number of Components')\n",
        "plt.ylabel('Variance (%)') #for each component\n",
        "plt.show()"
      ],
      "execution_count": 0,
      "outputs": [
        {
          "output_type": "display_data",
          "data": {
            "image/png": "[encoded data removed]",
            "text/plain": [
              "<Figure size 432x288 with 1 Axes>"
            ]
          },
          "metadata": {
            "tags": []
          }
        }
      ]
    },
    {
      "cell_type": "markdown",
      "metadata": {
        "id": "dMgqFO8zlFHN",
        "colab_type": "text"
      },
      "source": [
        "We can pick only 200 components"
      ]
    },
    {
      "cell_type": "code",
      "metadata": {
        "id": "tMm0E7kHd-yJ",
        "colab_type": "code",
        "outputId": "71db97af-5350-47ce-b2de-9978cf5ac768",
        "colab": {
          "base_uri": "https://localhost:8080/",
          "height": 35
        }
      },
      "source": [
        "pca = PCA(n_components=200)\n",
        "dataset = pca.fit_transform(rescaled)\n",
        "print(dataset.shape)"
      ],
      "execution_count": 0,
      "outputs": [
        {
          "output_type": "stream",
          "text": [
            "(530, 200)\n"
          ],
          "name": "stdout"
        }
      ]
    },
    {
      "cell_type": "markdown",
      "metadata": {
        "id": "Bj5gYx2h1HhQ",
        "colab_type": "text"
      },
      "source": [
        "# Data Preparation"
      ]
    },
    {
      "cell_type": "code",
      "metadata": {
        "id": "qSnuq_l11srK",
        "colab_type": "code",
        "colab": {}
      },
      "source": [
        "from sklearn.model_selection import train_test_split\n",
        "random_state = 42\n",
        "\n",
        "train_unscaled,test_unscaled,y_train,y_test = train_test_split(dataset, labels, \n",
        "                        test_size=0.2, shuffle=True,\n",
        "                         random_state=random_state)"
      ],
      "execution_count": 0,
      "outputs": []
    },
    {
      "cell_type": "markdown",
      "metadata": {
        "id": "-3kgfjfa75TI",
        "colab_type": "text"
      },
      "source": [
        "Rescale the data and set it around 0 (We need it for SVM)"
      ]
    },
    {
      "cell_type": "code",
      "metadata": {
        "id": "JHKLLFBi79pc",
        "colab_type": "code",
        "colab": {}
      },
      "source": [
        "# Feature Scaling\n",
        "from sklearn.preprocessing import StandardScaler\n",
        "\n",
        "sc = StandardScaler()\n",
        "X_train = sc.fit_transform(train_unscaled)\n",
        "X_test = sc.transform(test_unscaled)\n"
      ],
      "execution_count": 0,
      "outputs": []
    },
    {
      "cell_type": "markdown",
      "metadata": {
        "id": "h3GB41Tx4qln",
        "colab_type": "text"
      },
      "source": [
        "# Model Selection\n",
        "This is the Binary Classification\n",
        "Often the best model is RandomForest so lets start with it"
      ]
    },
    {
      "cell_type": "code",
      "metadata": {
        "id": "1inQv5W48hNI",
        "colab_type": "code",
        "colab": {}
      },
      "source": [
        "from sklearn.ensemble import RandomForestClassifier\n",
        "\n",
        "rfc = RandomForestClassifier(n_estimators=20, random_state=random_state)\n"
      ],
      "execution_count": 0,
      "outputs": []
    },
    {
      "cell_type": "code",
      "metadata": {
        "id": "1XjXNMzdBfFX",
        "colab_type": "code",
        "colab": {}
      },
      "source": [
        "rfc.fit(X_train, y_train)\n",
        "rfc_pred = rfc.predict(X_test)"
      ],
      "execution_count": 0,
      "outputs": []
    },
    {
      "cell_type": "code",
      "metadata": {
        "id": "fj_6OO3C93jb",
        "colab_type": "code",
        "outputId": "ae9444dc-5874-4718-9bff-79cf286841e2",
        "colab": {
          "base_uri": "https://localhost:8080/",
          "height": 89
        }
      },
      "source": [
        "print(rfc_pred.shape)\n",
        "print(rfc_pred)"
      ],
      "execution_count": 0,
      "outputs": [
        {
          "output_type": "stream",
          "text": [
            "(106,)\n",
            "[0 0 0 0 0 0 0 0 0 0 0 0 1 0 0 0 0 0 0 0 0 0 0 0 0 0 0 0 0 0 0 0 0 0 0 0 0\n",
            " 0 0 0 0 0 0 0 0 0 0 0 0 1 1 0 0 1 0 0 0 0 0 0 0 0 0 0 0 0 0 0 0 0 0 0 0 0\n",
            " 0 0 0 0 0 0 0 0 0 0 0 0 0 0 0 0 0 0 0 0 0 0 0 0 0 0 0 0 0 0 0 0]\n"
          ],
          "name": "stdout"
        }
      ]
    },
    {
      "cell_type": "markdown",
      "metadata": {
        "id": "jr8AQF3s9ZGq",
        "colab_type": "text"
      },
      "source": [
        "# Model Evaluation\n",
        "\n",
        "For Classification AUC_ROC is the right metric to evaluate.\n",
        "Lets first check the confusion matrix"
      ]
    },
    {
      "cell_type": "code",
      "metadata": {
        "id": "5fl4f-aR9lNC",
        "colab_type": "code",
        "outputId": "415ce74a-5c86-4eac-858d-60aa0e119059",
        "colab": {
          "base_uri": "https://localhost:8080/",
          "height": 233
        }
      },
      "source": [
        "from sklearn.metrics import classification_report, confusion_matrix, accuracy_score\n",
        "\n",
        "print(confusion_matrix(y_test,rfc_pred))\n",
        "print(classification_report(y_test,rfc_pred))\n",
        "print(accuracy_score(y_test, rfc_pred))"
      ],
      "execution_count": 0,
      "outputs": [
        {
          "output_type": "stream",
          "text": [
            "[[73  1]\n",
            " [29  3]]\n",
            "              precision    recall  f1-score   support\n",
            "\n",
            "           0       0.72      0.99      0.83        74\n",
            "           1       0.75      0.09      0.17        32\n",
            "\n",
            "    accuracy                           0.72       106\n",
            "   macro avg       0.73      0.54      0.50       106\n",
            "weighted avg       0.73      0.72      0.63       106\n",
            "\n",
            "0.7169811320754716\n"
          ],
          "name": "stdout"
        }
      ]
    },
    {
      "cell_type": "markdown",
      "metadata": {
        "id": "9grCxBU6txwB",
        "colab_type": "text"
      },
      "source": [
        "This is a classification so the real measurement of model is Aread Under Curve of ROC Curve"
      ]
    },
    {
      "cell_type": "code",
      "metadata": {
        "id": "NTJR1TO9gN_3",
        "colab_type": "code",
        "outputId": "4f8f3f60-dd52-486d-8d59-0c79690ebf13",
        "colab": {
          "base_uri": "https://localhost:8080/",
          "height": 35
        }
      },
      "source": [
        "import numpy as np\n",
        "from sklearn.metrics import roc_auc_score\n",
        "roc_auc_score(y_test, rfc_pred)"
      ],
      "execution_count": 0,
      "outputs": [
        {
          "output_type": "execute_result",
          "data": {
            "text/plain": [
              "0.5401182432432432"
            ]
          },
          "metadata": {
            "tags": []
          },
          "execution_count": 79
        }
      ]
    },
    {
      "cell_type": "markdown",
      "metadata": {
        "id": "znzveR1Om3HL",
        "colab_type": "text"
      },
      "source": [
        "# Another Model (SVM)"
      ]
    },
    {
      "cell_type": "code",
      "metadata": {
        "id": "OBKccPqs9zir",
        "colab_type": "code",
        "colab": {}
      },
      "source": [
        "from sklearn.svm import SVC\n",
        "svc = SVC(kernel='linear')"
      ],
      "execution_count": 0,
      "outputs": []
    },
    {
      "cell_type": "code",
      "metadata": {
        "id": "vxsw1ua2m7_N",
        "colab_type": "code",
        "outputId": "820cbf94-65f3-4538-b956-6beeb7b70527",
        "colab": {
          "base_uri": "https://localhost:8080/",
          "height": 251
        }
      },
      "source": [
        "svc.fit(X_train, y_train)\n",
        "svc_pred = svc.predict(X_test)\n",
        "print(confusion_matrix(y_test,svc_pred))\n",
        "print(classification_report(y_test,svc_pred))\n",
        "print(accuracy_score(y_test, svc_pred))\n",
        "print(roc_auc_score(y_test, svc_pred))"
      ],
      "execution_count": 0,
      "outputs": [
        {
          "output_type": "stream",
          "text": [
            "[[65  9]\n",
            " [17 15]]\n",
            "              precision    recall  f1-score   support\n",
            "\n",
            "           0       0.79      0.88      0.83        74\n",
            "           1       0.62      0.47      0.54        32\n",
            "\n",
            "    accuracy                           0.75       106\n",
            "   macro avg       0.71      0.67      0.68       106\n",
            "weighted avg       0.74      0.75      0.74       106\n",
            "\n",
            "0.7547169811320755\n",
            "0.6735641891891891\n"
          ],
          "name": "stdout"
        }
      ]
    },
    {
      "cell_type": "markdown",
      "metadata": {
        "id": "qHMuYe_hPTHd",
        "colab_type": "text"
      },
      "source": [
        "# Other models \n",
        "\n",
        "We can try Logistic Regression or Naive Bayes and set the threshold of 0.5. However most probabaly SVM does a better job"
      ]
    },
    {
      "cell_type": "code",
      "metadata": {
        "id": "pbrfB_YMzNHS",
        "colab_type": "code",
        "colab": {}
      },
      "source": [
        "from sklearn.linear_model import LogisticRegression\n",
        "\n",
        "model = LogisticRegression()"
      ],
      "execution_count": 0,
      "outputs": []
    },
    {
      "cell_type": "markdown",
      "metadata": {
        "id": "7OXap9k0msVG",
        "colab_type": "text"
      },
      "source": [
        "# Neural Network model"
      ]
    },
    {
      "cell_type": "code",
      "metadata": {
        "id": "5xbt_y76l3dk",
        "colab_type": "code",
        "colab": {}
      },
      "source": [
        "from keras.models import Sequential\n",
        "from keras.layers import Dense\n",
        "\n",
        "def create_baseline():\n",
        "\t# create model\n",
        "\tmodel = Sequential()\n",
        "\tmodel.add(Dense(30, input_dim=200, kernel_initializer='normal', activation='relu'))\n",
        "\tmodel.add(Dense(1, kernel_initializer='normal', activation='sigmoid'))\n",
        "\t# Compile model\n",
        "\tmodel.compile(loss='binary_crossentropy', optimizer='adam', metrics=['accuracy'])\n",
        "\treturn model"
      ],
      "execution_count": 0,
      "outputs": []
    },
    {
      "cell_type": "code",
      "metadata": {
        "id": "vWG9kGP1l4vp",
        "colab_type": "code",
        "colab": {}
      },
      "source": [
        "from keras.wrappers.scikit_learn import KerasClassifier\n",
        "from sklearn.model_selection import cross_val_score\n",
        "from sklearn.model_selection import StratifiedKFold\n",
        "\n",
        "# evaluate model with standardized dataset\n",
        "estimator = KerasClassifier(build_fn=create_baseline, epochs=10, batch_size=10, verbose=0)\n",
        "kfold = StratifiedKFold(n_splits=10, shuffle=True, random_state=random_state)\n",
        "results = cross_val_score(estimator, X_train, y_train, cv=kfold)\n",
        "print(\"Results: %.2f%% (%.2f%%)\" % (results.mean()*100, results.std()*100))"
      ],
      "execution_count": 0,
      "outputs": []
    }
  ]
}