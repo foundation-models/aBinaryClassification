{
  "nbformat": 4,
  "nbformat_minor": 0,
  "metadata": {
    "colab": {
      "name": "Tempus.ipynb",
      "version": "0.3.2",
      "provenance": [],
      "collapsed_sections": [],
      "include_colab_link": true
    },
    "kernelspec": {
      "name": "python3",
      "display_name": "Python 3"
    },
    "accelerator": "GPU"
  },
  "cells": [
    {
      "cell_type": "markdown",
      "metadata": {
        "id": "view-in-github",
        "colab_type": "text"
      },
      "source": [
        "<a href=\"https://colab.research.google.com/github/hossein20s/aBinaryClassification/blob/master/Tempus.ipynb\" target=\"_parent\"><img src=\"https://colab.research.google.com/assets/colab-badge.svg\" alt=\"Open In Colab\"/></a>"
      ]
    },
    {
      "cell_type": "markdown",
      "metadata": {
        "id": "858jcf1BP75X",
        "colab_type": "text"
      },
      "source": [
        "# Problem Definition\n",
        "Check it out from https://drive.google.com/file/d/0B2N190SEI1grNXRxRjN5NWdkWWVHSzZyNWN5bWJNNUo3T3BF/view?usp=drivesdk\n"
      ]
    },
    {
      "cell_type": "markdown",
      "metadata": {
        "id": "9upJiCstrbBG",
        "colab_type": "text"
      },
      "source": [
        "# Initialize\n",
        "Connecting colab to GDrive as I kept the data there"
      ]
    },
    {
      "cell_type": "code",
      "metadata": {
        "id": "fEA1ROsVJjGG",
        "colab_type": "code",
        "outputId": "6415a712-288c-40a0-f048-f67ee82cd542",
        "colab": {
          "base_uri": "https://localhost:8080/",
          "height": 81
        }
      },
      "source": [
        "from google.colab import drive\n",
        "drive.mount('/gdrive')\n",
        "!ln -s \"/gdrive/My Drive/data\" data"
      ],
      "execution_count": 0,
      "outputs": [
        {
          "output_type": "stream",
          "text": [
            "Drive already mounted at /gdrive; to attempt to forcibly remount, call drive.mount(\"/gdrive\", force_remount=True).\n",
            "ln: failed to create symbolic link 'data/data': Function not implemented\n"
          ],
          "name": "stdout"
        }
      ]
    },
    {
      "cell_type": "code",
      "metadata": {
        "id": "WFOrZESMll_h",
        "colab_type": "code",
        "outputId": "c66f8273-a055-481a-cd75-7282d38dd5bf",
        "colab": {
          "base_uri": "https://localhost:8080/",
          "height": 81
        }
      },
      "source": [
        "!gunzip data/DScasestudy.txt.gz\n",
        "!wc -l data/DScasestudy.txt"
      ],
      "execution_count": 0,
      "outputs": [
        {
          "output_type": "stream",
          "text": [
            "gzip: data/DScasestudy.txt.gz: No such file or directory\n",
            "531 data/DScasestudy.txt\n"
          ],
          "name": "stdout"
        }
      ]
    },
    {
      "cell_type": "markdown",
      "metadata": {
        "id": "_-W3AgucsE8G",
        "colab_type": "text"
      },
      "source": [
        "# Data Inspactoin\n",
        "\n",
        "Conver it to Pandas Dataframe and check it’s shape"
      ]
    },
    {
      "cell_type": "code",
      "metadata": {
        "id": "AzFM2PyIl71l",
        "colab_type": "code",
        "outputId": "6c122952-9606-4f73-da15-ddc4e2c6a152",
        "colab": {
          "base_uri": "https://localhost:8080/",
          "height": 35
        }
      },
      "source": [
        "DATA_FILE = 'data/DScasestudy.txt'\n",
        "import pandas as pd\n",
        "\n",
        "data = pd.read_csv(DATA_FILE, sep=\"\\t\")\n",
        "print(data.shape)"
      ],
      "execution_count": 0,
      "outputs": [
        {
          "output_type": "stream",
          "text": [
            "(530, 16563)\n"
          ],
          "name": "stdout"
        }
      ]
    },
    {
      "cell_type": "markdown",
      "metadata": {
        "id": "j7CjAtlXsO3J",
        "colab_type": "text"
      },
      "source": [
        "*  Take a look at the first couple of lines \n",
        "*  If it has any missing data: *It didn’t*\n",
        "*  Some statistics on the data: *Sparse data*\n",
        "\n",
        "\n"
      ]
    },
    {
      "cell_type": "code",
      "metadata": {
        "id": "uN5M5rtjpAoc",
        "colab_type": "code",
        "outputId": "252756ac-1c3d-4561-9b4b-daf172324c3e",
        "colab": {
          "base_uri": "https://localhost:8080/",
          "height": 287
        }
      },
      "source": [
        "print(data.iloc[1:3,0:4])\n",
        "print(data.isnull().values.any())\n",
        "print(data.describe())"
      ],
      "execution_count": 0,
      "outputs": [
        {
          "output_type": "stream",
          "text": [
            "   response  V1  V2  V3\n",
            "1         1   0   0   0\n",
            "2         1   0   0   0\n",
            "False\n",
            "         response          V1          V2  ...      V16560  V16561      V16562\n",
            "count  530.000000  530.000000  530.000000  ...  530.000000   530.0  530.000000\n",
            "mean     0.232075    0.009434    0.009434  ...    0.003774     0.0    0.447170\n",
            "std      0.422556    0.096761    0.096761  ...    0.061371     0.0    0.497671\n",
            "min      0.000000    0.000000    0.000000  ...    0.000000     0.0    0.000000\n",
            "25%      0.000000    0.000000    0.000000  ...    0.000000     0.0    0.000000\n",
            "50%      0.000000    0.000000    0.000000  ...    0.000000     0.0    0.000000\n",
            "75%      0.000000    0.000000    0.000000  ...    0.000000     0.0    1.000000\n",
            "max      1.000000    1.000000    1.000000  ...    1.000000     0.0    1.000000\n",
            "\n",
            "[8 rows x 16563 columns]\n"
          ],
          "name": "stdout"
        }
      ]
    },
    {
      "cell_type": "markdown",
      "metadata": {
        "id": "whkQRvqKkhlH",
        "colab_type": "text"
      },
      "source": [
        "Lets plot one case and couple of feature to see if any pattern can be detected by eye. There is an imbalance between response 1 and 0 but it is not much. Looks like other values are all 0 or 1"
      ]
    },
    {
      "cell_type": "code",
      "metadata": {
        "id": "TV5nyG5zkSpA",
        "colab_type": "code",
        "outputId": "b181d493-fe71-4da9-d0ff-bbed0107cb95",
        "colab": {
          "base_uri": "https://localhost:8080/",
          "height": 287
        }
      },
      "source": [
        "import matplotlib.pyplot as plt\n",
        "%matplotlib inline\n",
        "\n",
        "data_labels = data.iloc[:,0]\n",
        "plt.plot(data_labels)\n",
        "plt.show()\n",
        "zero_size = data[data_labels==0].shape[0]\n",
        "sample_size = data.shape[0]\n",
        "print(\"Random pick gives \" + str(zero_size*100/sample_size) + \"% 0\")\n"
      ],
      "execution_count": 209,
      "outputs": [
        {
          "output_type": "display_data",
          "data": {
            "image/png": "[encoded data removed]",
            "text/plain": [
              "<Figure size 432x288 with 1 Axes>"
            ]
          },
          "metadata": {
            "tags": []
          }
        },
        {
          "output_type": "stream",
          "text": [
            "Random pick gives 76.79245283018868% 0\n"
          ],
          "name": "stdout"
        }
      ]
    },
    {
      "cell_type": "markdown",
      "metadata": {
        "id": "npEqajMxSymx",
        "colab_type": "text"
      },
      "source": [
        "Probably many columns dont have any data"
      ]
    },
    {
      "cell_type": "code",
      "metadata": {
        "id": "EikqXeYRSW3B",
        "colab_type": "code",
        "outputId": "d8c6070d-df6f-4f95-98df-f4e4d5009a7b",
        "colab": {
          "base_uri": "https://localhost:8080/",
          "height": 107
        }
      },
      "source": [
        "data.columns[(data == 0).all()]"
      ],
      "execution_count": 0,
      "outputs": [
        {
          "output_type": "execute_result",
          "data": {
            "text/plain": [
              "Index(['V4', 'V9', 'V10', 'V12', 'V14', 'V15', 'V16', 'V19', 'V21', 'V37',\n",
              "       ...\n",
              "       'V16530', 'V16531', 'V16533', 'V16536', 'V16537', 'V16538', 'V16554',\n",
              "       'V16555', 'V16559', 'V16561'],\n",
              "      dtype='object', length=5492)"
            ]
          },
          "metadata": {
            "tags": []
          },
          "execution_count": 6
        }
      ]
    },
    {
      "cell_type": "markdown",
      "metadata": {
        "id": "okKciTQaXXaq",
        "colab_type": "text"
      },
      "source": [
        "# Dimensionality Reduction\n",
        "\n",
        "\n",
        "\n",
        "The number of features is much more than the number of samples (so called curse of dimensioality). We need to reduce dimensions and keep only the statistial significant features. This is called Regularization and in this case the best model is L1 or **Lasso** Regression. In this case we start with **PCA**. Then try L1 penalized Logistic Regression\n",
        "\n",
        "First separate Labels from Features"
      ]
    },
    {
      "cell_type": "code",
      "metadata": {
        "id": "buASLikdlVNi",
        "colab_type": "code",
        "outputId": "bdeefc9e-4b2d-4168-bc74-46bd648290c3",
        "colab": {
          "base_uri": "https://localhost:8080/",
          "height": 35
        }
      },
      "source": [
        "labels = data.iloc[:,0\n",
        "features = data.iloc[:,1:]\n",
        "print(features.values.shape)"
      ],
      "execution_count": 0,
      "outputs": [
        {
          "output_type": "stream",
          "text": [
            "(530, 16562)\n"
          ],
          "name": "stdout"
        }
      ]
    },
    {
      "cell_type": "markdown",
      "metadata": {
        "id": "NDV9WlL3pdEn",
        "colab_type": "text"
      },
      "source": [
        "Even though the data bounded to 0 and 1. We apply MinMax for the sake of reusing it for future data"
      ]
    },
    {
      "cell_type": "code",
      "metadata": {
        "id": "dIpMgo3Mdg-k",
        "colab_type": "code",
        "colab": {}
      },
      "source": [
        "from sklearn.preprocessing import MinMaxScaler\n",
        "\n",
        "scaler = MinMaxScaler(feature_range=[0, 1])\n",
        "rescaled = scaler.fit_transform(features)"
      ],
      "execution_count": 0,
      "outputs": []
    },
    {
      "cell_type": "code",
      "metadata": {
        "id": "AIWaxHkGXte5",
        "colab_type": "code",
        "outputId": "243ccd8f-a091-4cbd-f468-26cc0aa1cd8d",
        "colab": {
          "base_uri": "https://localhost:8080/",
          "height": 283
        }
      },
      "source": [
        "import numpy as np\n",
        "from sklearn.decomposition import PCA\n",
        "import matplotlib.pyplot as plt\n",
        "%matplotlib inline\n",
        "\n",
        "#Fitting the PCA algorithm with our Data\n",
        "pca = PCA().fit(rescaled)\n",
        "#Plotting the Cumulative Summation of the Explained Variance\n",
        "plt.figure()\n",
        "plt.plot(np.cumsum(pca.explained_variance_ratio_))\n",
        "plt.xlabel('Number of Components')\n",
        "plt.ylabel('Variance (%)') #for each component\n",
        "plt.show()"
      ],
      "execution_count": 0,
      "outputs": [
        {
          "output_type": "display_data",
          "data": {
            "image/png": "[encoded data removed]",
            "text/plain": [
              "<Figure size 432x288 with 1 Axes>"
            ]
          },
          "metadata": {
            "tags": []
          }
        }
      ]
    },
    {
      "cell_type": "markdown",
      "metadata": {
        "id": "dMgqFO8zlFHN",
        "colab_type": "text"
      },
      "source": [
        "We can pick only 200 components"
      ]
    },
    {
      "cell_type": "code",
      "metadata": {
        "id": "tMm0E7kHd-yJ",
        "colab_type": "code",
        "outputId": "71db97af-5350-47ce-b2de-9978cf5ac768",
        "colab": {
          "base_uri": "https://localhost:8080/",
          "height": 35
        }
      },
      "source": [
        "pca = PCA(n_components=200)\n",
        "dataset = pca.fit_transform(rescaled)\n",
        "print(dataset.shape)"
      ],
      "execution_count": 0,
      "outputs": [
        {
          "output_type": "stream",
          "text": [
            "(530, 200)\n"
          ],
          "name": "stdout"
        }
      ]
    },
    {
      "cell_type": "markdown",
      "metadata": {
        "id": "Bj5gYx2h1HhQ",
        "colab_type": "text"
      },
      "source": [
        "# Data Preparation\n",
        "\n",
        "**Important Note:** Here I split the data into training and test and use test to pick the best model. In real production we should not use test data for model selection or hyper parameter tunning and hide it from developers to be sure they don’t cheat. However for this homework I use test data as validation and assume there is another et of data hidden from me for testing."
      ]
    },
    {
      "cell_type": "code",
      "metadata": {
        "id": "qSnuq_l11srK",
        "colab_type": "code",
        "colab": {}
      },
      "source": [
        "from sklearn.model_selection import train_test_split\n",
        "random_state = 42\n",
        "\n",
        "train_unscaled,test_unscaled,y_train,y_test = train_test_split(dataset, labels, \n",
        "                        test_size=0.2, shuffle=True,\n",
        "                         random_state=random_state)"
      ],
      "execution_count": 0,
      "outputs": []
    },
    {
      "cell_type": "markdown",
      "metadata": {
        "id": "-3kgfjfa75TI",
        "colab_type": "text"
      },
      "source": [
        "Rescale the data and set it around 0 (We need it for SVM)"
      ]
    },
    {
      "cell_type": "code",
      "metadata": {
        "id": "JHKLLFBi79pc",
        "colab_type": "code",
        "colab": {}
      },
      "source": [
        "# Feature Scaling\n",
        "from sklearn.preprocessing import StandardScaler\n",
        "\n",
        "sc = StandardScaler()\n",
        "X_train = sc.fit_transform(train_unscaled)\n",
        "X_test = sc.transform(test_unscaled)\n"
      ],
      "execution_count": 0,
      "outputs": []
    },
    {
      "cell_type": "markdown",
      "metadata": {
        "id": "h3GB41Tx4qln",
        "colab_type": "text"
      },
      "source": [
        "# Model Selection - Start with RF\n",
        "This is the Binary Classification\n",
        "Often the best model is RandomForest so lets start with it"
      ]
    },
    {
      "cell_type": "code",
      "metadata": {
        "id": "1inQv5W48hNI",
        "colab_type": "code",
        "colab": {
          "base_uri": "https://localhost:8080/",
          "height": 143
        },
        "outputId": "da78c2dc-3eaf-498c-a813-a76a4f6fce2f"
      },
      "source": [
        "from sklearn.ensemble import RandomForestClassifier\n",
        "\n",
        "rfc = RandomForestClassifier(n_estimators=15, max_depth=100,\n",
        "                             random_state=random_state)\n",
        "rfc.fit(X_train, y_train)"
      ],
      "execution_count": 174,
      "outputs": [
        {
          "output_type": "execute_result",
          "data": {
            "text/plain": [
              "RandomForestClassifier(bootstrap=True, class_weight=None, criterion='gini',\n",
              "                       max_depth=100, max_features='auto', max_leaf_nodes=None,\n",
              "                       min_impurity_decrease=0.0, min_impurity_split=None,\n",
              "                       min_samples_leaf=1, min_samples_split=2,\n",
              "                       min_weight_fraction_leaf=0.0, n_estimators=15,\n",
              "                       n_jobs=None, oob_score=False, random_state=42, verbose=0,\n",
              "                       warm_start=False)"
            ]
          },
          "metadata": {
            "tags": []
          },
          "execution_count": 174
        }
      ]
    },
    {
      "cell_type": "code",
      "metadata": {
        "id": "1XjXNMzdBfFX",
        "colab_type": "code",
        "colab": {}
      },
      "source": [
        "y_pred_rf = rfc.predict_proba(X_test)[:, 1]\n",
        "fpr_rf, tpr_rf, thresholds_rf = roc_curve(y_test, y_pred_rf)\n",
        "auc_rf = auc(fpr_rf, tpr_rf)"
      ],
      "execution_count": 0,
      "outputs": []
    },
    {
      "cell_type": "code",
      "metadata": {
        "id": "fj_6OO3C93jb",
        "colab_type": "code",
        "outputId": "3f570771-508b-4a63-d441-0f9ba928c415",
        "colab": {
          "base_uri": "https://localhost:8080/",
          "height": 359
        }
      },
      "source": [
        "print(y_pred_rf.shape)\n",
        "print(y_pred_rf)"
      ],
      "execution_count": 177,
      "outputs": [
        {
          "output_type": "stream",
          "text": [
            "(106,)\n",
            "[0.46666667 0.06666667 0.46666667 0.13333333 0.33333333 0.\n",
            " 0.13333333 0.33333333 0.13333333 0.33333333 0.26666667 0.26666667\n",
            " 0.66666667 0.2        0.13333333 0.06666667 0.         0.33333333\n",
            " 0.33333333 0.4        0.13333333 0.         0.33333333 0.\n",
            " 0.4        0.26666667 0.         0.13333333 0.33333333 0.4\n",
            " 0.33333333 0.2        0.46666667 0.2        0.26666667 0.06666667\n",
            " 0.06666667 0.         0.06666667 0.13333333 0.06666667 0.06666667\n",
            " 0.06666667 0.2        0.33333333 0.06666667 0.06666667 0.13333333\n",
            " 0.06666667 0.6        0.53333333 0.         0.2        0.6\n",
            " 0.         0.46666667 0.13333333 0.06666667 0.26666667 0.13333333\n",
            " 0.         0.26666667 0.33333333 0.33333333 0.33333333 0.06666667\n",
            " 0.46666667 0.33333333 0.4        0.13333333 0.46666667 0.\n",
            " 0.33333333 0.33333333 0.26666667 0.         0.33333333 0.26666667\n",
            " 0.13333333 0.33333333 0.33333333 0.06666667 0.33333333 0.06666667\n",
            " 0.         0.4        0.         0.06666667 0.4        0.\n",
            " 0.4        0.46666667 0.26666667 0.06666667 0.06666667 0.33333333\n",
            " 0.33333333 0.46666667 0.2        0.26666667 0.46666667 0.2\n",
            " 0.06666667 0.33333333 0.06666667 0.46666667]\n"
          ],
          "name": "stdout"
        }
      ]
    },
    {
      "cell_type": "markdown",
      "metadata": {
        "id": "jr8AQF3s9ZGq",
        "colab_type": "text"
      },
      "source": [
        "# Model Evaluation\n",
        "\n",
        "For Classification AUC_ROC is the right metric to evaluate.\n",
        "Lets first check the confusion matrix"
      ]
    },
    {
      "cell_type": "code",
      "metadata": {
        "id": "5fl4f-aR9lNC",
        "colab_type": "code",
        "colab": {}
      },
      "source": [
        "import numpy as np\n",
        "from sklearn.metrics import roc_auc_score\n",
        "from sklearn.metrics import classification_report, confusion_matrix, accuracy_score\n",
        "\n",
        "def print_model_performance(pred):\n",
        "  pred = pred > 0.5\n",
        "  print('Confusion Matric: \\n', confusion_matrix(y_test,pred))\n",
        "  print(classification_report(y_test,pred))\n",
        "  print('Accuracy: ', accuracy_score(y_test, pred))\n",
        "  #print('ROC AUC Score:', roc_auc_score(y_test, Y_score))\n"
      ],
      "execution_count": 0,
      "outputs": []
    },
    {
      "cell_type": "markdown",
      "metadata": {
        "id": "9grCxBU6txwB",
        "colab_type": "text"
      },
      "source": [
        "This is a classification so the real measurement of model is Aread Under Curve of ROC Curve"
      ]
    },
    {
      "cell_type": "code",
      "metadata": {
        "id": "NTJR1TO9gN_3",
        "colab_type": "code",
        "outputId": "dda3da7f-d83f-40a8-c8c6-d8b205720979",
        "colab": {
          "base_uri": "https://localhost:8080/",
          "height": 251
        }
      },
      "source": [
        "print_model_performance(y_pred_rf)"
      ],
      "execution_count": 184,
      "outputs": [
        {
          "output_type": "stream",
          "text": [
            "Confusion Matric: \n",
            " [[73  1]\n",
            " [29  3]]\n",
            "              precision    recall  f1-score   support\n",
            "\n",
            "           0       0.72      0.99      0.83        74\n",
            "           1       0.75      0.09      0.17        32\n",
            "\n",
            "    accuracy                           0.72       106\n",
            "   macro avg       0.73      0.54      0.50       106\n",
            "weighted avg       0.73      0.72      0.63       106\n",
            "\n",
            "Accuracy:  0.7169811320754716\n"
          ],
          "name": "stdout"
        }
      ]
    },
    {
      "cell_type": "markdown",
      "metadata": {
        "id": "znzveR1Om3HL",
        "colab_type": "text"
      },
      "source": [
        "# Another Model (SVM)"
      ]
    },
    {
      "cell_type": "code",
      "metadata": {
        "id": "OBKccPqs9zir",
        "colab_type": "code",
        "colab": {}
      },
      "source": [
        "from sklearn.svm import SVC\n",
        "svc = SVC(kernel='linear', probability=True)\n"
      ],
      "execution_count": 0,
      "outputs": []
    },
    {
      "cell_type": "code",
      "metadata": {
        "id": "vxsw1ua2m7_N",
        "colab_type": "code",
        "outputId": "feb0f13a-cd9f-4267-d6c5-1e550ed27b84",
        "colab": {
          "base_uri": "https://localhost:8080/",
          "height": 251
        }
      },
      "source": [
        "svc.fit(X_train, y_train)\n",
        "y_pred_svc = svc.predict_proba(X_test)[:, 1]\n",
        "fpr_svc, tpr_svc, thresholds_svc = roc_curve(y_test, y_pred_svc)\n",
        "auc_svc = auc(fpr_svc, tpr_svc)\n",
        "print_model_performance(y_pred_svc)"
      ],
      "execution_count": 190,
      "outputs": [
        {
          "output_type": "stream",
          "text": [
            "Confusion Matric: \n",
            " [[71  3]\n",
            " [29  3]]\n",
            "              precision    recall  f1-score   support\n",
            "\n",
            "           0       0.71      0.96      0.82        74\n",
            "           1       0.50      0.09      0.16        32\n",
            "\n",
            "    accuracy                           0.70       106\n",
            "   macro avg       0.60      0.53      0.49       106\n",
            "weighted avg       0.65      0.70      0.62       106\n",
            "\n",
            "Accuracy:  0.6981132075471698\n"
          ],
          "name": "stdout"
        }
      ]
    },
    {
      "cell_type": "markdown",
      "metadata": {
        "id": "qHMuYe_hPTHd",
        "colab_type": "text"
      },
      "source": [
        "# Logistic Regression"
      ]
    },
    {
      "cell_type": "code",
      "metadata": {
        "id": "pbrfB_YMzNHS",
        "colab_type": "code",
        "colab": {
          "base_uri": "https://localhost:8080/",
          "height": 327
        },
        "outputId": "cec4ba4f-6ed6-4cae-9c6f-cc944dddc12d"
      },
      "source": [
        "from sklearn.linear_model import LogisticRegression\n",
        "\n",
        "LR_model = LogisticRegression()\n",
        "LR_model.fit(X_train, y_train)\n",
        "y_pred_lr = LR_model.predict_proba(X_test)[:, 1]\n",
        "fpr_lr, tpr_lr, thresholds_lr = roc_curve(y_test, y_pred_lr)\n",
        "auc_lr = auc(fpr_lr, tpr_lr)\n",
        "print_model_performance(y_pred_lr)"
      ],
      "execution_count": 193,
      "outputs": [
        {
          "output_type": "stream",
          "text": [
            "Confusion Matric: \n",
            " [[65  9]\n",
            " [13 19]]\n",
            "              precision    recall  f1-score   support\n",
            "\n",
            "           0       0.83      0.88      0.86        74\n",
            "           1       0.68      0.59      0.63        32\n",
            "\n",
            "    accuracy                           0.79       106\n",
            "   macro avg       0.76      0.74      0.74       106\n",
            "weighted avg       0.79      0.79      0.79       106\n",
            "\n",
            "Accuracy:  0.7924528301886793\n"
          ],
          "name": "stdout"
        },
        {
          "output_type": "stream",
          "text": [
            "/usr/local/lib/python3.6/dist-packages/sklearn/linear_model/logistic.py:432: FutureWarning: Default solver will be changed to 'lbfgs' in 0.22. Specify a solver to silence this warning.\n",
            "  FutureWarning)\n"
          ],
          "name": "stderr"
        }
      ]
    },
    {
      "cell_type": "markdown",
      "metadata": {
        "id": "esh936UErRTe",
        "colab_type": "text"
      },
      "source": [
        "# L1 penalized Logistic Regression\n",
        "\n",
        "I skip this part becuase this should be independent of PCA. I have already reduced the dimension to 200. Therefore Lasso won’t help much"
      ]
    },
    {
      "cell_type": "code",
      "metadata": {
        "id": "a8OjgTMNrPtC",
        "colab_type": "code",
        "colab": {}
      },
      "source": [
        ""
      ],
      "execution_count": 0,
      "outputs": []
    },
    {
      "cell_type": "markdown",
      "metadata": {
        "id": "d_RJ8-ta5M5k",
        "colab_type": "text"
      },
      "source": [
        "# Naive Base (Gaussian)"
      ]
    },
    {
      "cell_type": "code",
      "metadata": {
        "id": "mjxz5MF55QLZ",
        "colab_type": "code",
        "colab": {
          "base_uri": "https://localhost:8080/",
          "height": 251
        },
        "outputId": "c53fb86c-0e84-4bf3-d63e-5a414d190015"
      },
      "source": [
        "#Import Gaussian Naive Bayes model\n",
        "from sklearn.naive_bayes import GaussianNB\n",
        "\n",
        "#Create a Gaussian Classifier\n",
        "nbg = GaussianNB()\n",
        "nbg.fit(X_train, y_train)\n",
        "y_pred_nbg = nbg.predict_proba(X_test)[:, 1]\n",
        "fpr_nbg, tpr_nbg, thresholds_nbg = roc_curve(y_test, y_pred_nbg)\n",
        "auc_nbg = auc(fpr_nbg, tpr_nbg)\n",
        "print_model_performance(y_pred_nbg)"
      ],
      "execution_count": 195,
      "outputs": [
        {
          "output_type": "stream",
          "text": [
            "Confusion Matric: \n",
            " [[61 13]\n",
            " [19 13]]\n",
            "              precision    recall  f1-score   support\n",
            "\n",
            "           0       0.76      0.82      0.79        74\n",
            "           1       0.50      0.41      0.45        32\n",
            "\n",
            "    accuracy                           0.70       106\n",
            "   macro avg       0.63      0.62      0.62       106\n",
            "weighted avg       0.68      0.70      0.69       106\n",
            "\n",
            "Accuracy:  0.6981132075471698\n"
          ],
          "name": "stdout"
        }
      ]
    },
    {
      "cell_type": "markdown",
      "metadata": {
        "id": "iCrkEqDG59X1",
        "colab_type": "text"
      },
      "source": [
        "So far Logistic Regression had the best Score.\n",
        "Let’s try NN"
      ]
    },
    {
      "cell_type": "markdown",
      "metadata": {
        "id": "7OXap9k0msVG",
        "colab_type": "text"
      },
      "source": [
        "# Neural Network model"
      ]
    },
    {
      "cell_type": "code",
      "metadata": {
        "id": "5xbt_y76l3dk",
        "colab_type": "code",
        "colab": {}
      },
      "source": [
        "from keras.models import Sequential\n",
        "from keras.layers import Dense\n",
        "\n",
        "def create_baseline():\n",
        "\t# create model\n",
        "\tmodel = Sequential()\n",
        "\tmodel.add(Dense(20, input_dim=200, kernel_initializer='normal', activation='relu'))\n",
        "\tmodel.add(Dense(1, kernel_initializer='normal', activation='sigmoid'))\n",
        "\t# Compile model\n",
        "\tmodel.compile(loss='binary_crossentropy', optimizer='adam', metrics=['accuracy'])\n",
        "\treturn model"
      ],
      "execution_count": 0,
      "outputs": []
    },
    {
      "cell_type": "code",
      "metadata": {
        "id": "vWG9kGP1l4vp",
        "colab_type": "code",
        "colab": {
          "base_uri": "https://localhost:8080/",
          "height": 35
        },
        "outputId": "ca27afa0-5b78-476c-9299-1e1096e1b9fe"
      },
      "source": [
        "from keras.wrappers.scikit_learn import KerasClassifier\n",
        "from sklearn.model_selection import cross_val_score\n",
        "from sklearn.model_selection import StratifiedKFold\n",
        "\n",
        "# evaluate model with standardized dataset\n",
        "estimator = KerasClassifier(build_fn=create_baseline, epochs=10, batch_size=10, verbose=0)\n",
        "kfold = StratifiedKFold(n_splits=10, shuffle=True, random_state=random_state)\n",
        "results = cross_val_score(estimator, X_train, y_train, cv=kfold)\n",
        "print(\"Results: %.2f%% (%.2f%%)\" % (results.mean()*100, results.std()*100))"
      ],
      "execution_count": 168,
      "outputs": [
        {
          "output_type": "stream",
          "text": [
            "Results: 80.66% (3.91%)\n"
          ],
          "name": "stdout"
        }
      ]
    },
    {
      "cell_type": "code",
      "metadata": {
        "id": "1w962UWx9Aos",
        "colab_type": "code",
        "colab": {
          "base_uri": "https://localhost:8080/",
          "height": 35
        },
        "outputId": "7e239c2f-f9d0-4f4f-a234-b7098a81881b"
      },
      "source": [
        "keras_model = create_baseline()\n",
        "keras_model.fit(X_train, y_train, epochs=20, batch_size=3, verbose=0)\n"
      ],
      "execution_count": 178,
      "outputs": [
        {
          "output_type": "execute_result",
          "data": {
            "text/plain": [
              "<keras.callbacks.History at 0x7f513df6dda0>"
            ]
          },
          "metadata": {
            "tags": []
          },
          "execution_count": 178
        }
      ]
    },
    {
      "cell_type": "code",
      "metadata": {
        "id": "mz6zRvZzPLR4",
        "colab_type": "code",
        "colab": {}
      },
      "source": [
        "from sklearn.metrics import roc_curve\n",
        "\n",
        "y_pred_keras = keras_model.predict(X_test).ravel()\n",
        "fpr_keras, tpr_keras, thresholds_keras = roc_curve(y_test, y_pred_keras)"
      ],
      "execution_count": 0,
      "outputs": []
    },
    {
      "cell_type": "code",
      "metadata": {
        "id": "gLrANLARPeFC",
        "colab_type": "code",
        "colab": {}
      },
      "source": [
        "from sklearn.metrics import auc\n",
        "auc_keras = auc(fpr_keras, tpr_keras)"
      ],
      "execution_count": 0,
      "outputs": []
    },
    {
      "cell_type": "code",
      "metadata": {
        "id": "TA6EHQxDPoct",
        "colab_type": "code",
        "colab": {
          "base_uri": "https://localhost:8080/",
          "height": 295
        },
        "outputId": "41b424a0-c411-46b5-d077-25afb54b7e42"
      },
      "source": [
        "plt.figure(1)\n",
        "plt.plot([0, 1], [0, 1], 'k--')\n",
        "plt.plot(fpr_keras, tpr_keras, label='Keras (area = {:.3f})'.format(auc_keras))\n",
        "plt.plot(fpr_rf, tpr_rf, label='Random Forest (area = {:.3f})'.format(auc_rf))\n",
        "plt.plot(fpr_svc, tpr_svc, label='SVC (area = {:.3f})'.format(auc_svc))\n",
        "plt.plot(fpr_lr, tpr_lr, label='Logitic Regression (area = {:.3f})'.format(auc_lr))\n",
        "plt.plot(fpr_nbg, tpr_nbg, label='Naive Bayes (area = {:.3f})'.format(auc_nbg))\n",
        "plt.xlabel('False positive rate')\n",
        "plt.ylabel('True positive rate')\n",
        "plt.title('ROC curve')\n",
        "plt.legend(loc='best')\n",
        "plt.show()\n"
      ],
      "execution_count": 199,
      "outputs": [
        {
          "output_type": "display_data",
          "data": {
            "image/png": "[encoded data removed]",
            "text/plain": [
              "<Figure size 432x288 with 1 Axes>"
            ]
          },
          "metadata": {
            "tags": []
          }
        }
      ]
    },
    {
      "cell_type": "markdown",
      "metadata": {
        "id": "Dj2yPKwGtyXl",
        "colab_type": "text"
      },
      "source": [
        "We should be able to figure out the threshold corresponding to the highest AUC and then calculate the accuracy and it should pass 0.8 for Logistic Regression and maybe if we add dropout or even Conv1D get better result for Keras model."
      ]
    }
  ]
}